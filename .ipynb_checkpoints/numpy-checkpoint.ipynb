{
 "cells": [
  {
   "cell_type": "code",
   "execution_count": 1,
   "id": "f16376fd",
   "metadata": {},
   "outputs": [],
   "source": [
    "import numpy as np\n",
    "import pandas as pd\n",
    "import matplotlib.pyplot as plt"
   ]
  },
  {
   "cell_type": "markdown",
   "id": "f6a00e99",
   "metadata": {},
   "source": [
    "# numPy Arrays"
   ]
  },
  {
   "cell_type": "code",
   "execution_count": 2,
   "id": "d6e06cd5",
   "metadata": {},
   "outputs": [],
   "source": [
    "my_array = np.array([1, 2, 3, 4])"
   ]
  },
  {
   "cell_type": "code",
   "execution_count": 3,
   "id": "4da17e19",
   "metadata": {
    "collapsed": true
   },
   "outputs": [
    {
     "data": {
      "text/plain": [
       "array([1, 2, 3, 4])"
      ]
     },
     "execution_count": 3,
     "metadata": {},
     "output_type": "execute_result"
    }
   ],
   "source": [
    "my_array"
   ]
  },
  {
   "cell_type": "code",
   "execution_count": 4,
   "id": "39789490",
   "metadata": {},
   "outputs": [],
   "source": [
    "# 1-D array\n",
    "my_vector = np.array([1, 1, 0, 1], dtype=bool)"
   ]
  },
  {
   "cell_type": "code",
   "execution_count": 5,
   "id": "49e3cb5d",
   "metadata": {
    "collapsed": true
   },
   "outputs": [
    {
     "data": {
      "text/plain": [
       "array([ True,  True, False,  True])"
      ]
     },
     "execution_count": 5,
     "metadata": {},
     "output_type": "execute_result"
    }
   ],
   "source": [
    "my_vector"
   ]
  },
  {
   "cell_type": "code",
   "execution_count": 6,
   "id": "75ae505c",
   "metadata": {},
   "outputs": [],
   "source": [
    "# 2-D array\n",
    "my_matrix = np.array([[1, 2, 3],[4, 5, 6],[7, 8, 9]])"
   ]
  },
  {
   "cell_type": "code",
   "execution_count": 7,
   "id": "60ad337f",
   "metadata": {
    "collapsed": true
   },
   "outputs": [
    {
     "data": {
      "text/plain": [
       "array([[1, 2, 3],\n",
       "       [4, 5, 6],\n",
       "       [7, 8, 9]])"
      ]
     },
     "execution_count": 7,
     "metadata": {},
     "output_type": "execute_result"
    }
   ],
   "source": [
    "my_matrix"
   ]
  },
  {
   "cell_type": "code",
   "execution_count": 8,
   "id": "f019ded6",
   "metadata": {
    "collapsed": true
   },
   "outputs": [
    {
     "data": {
      "text/plain": [
       "(4,)"
      ]
     },
     "execution_count": 8,
     "metadata": {},
     "output_type": "execute_result"
    }
   ],
   "source": [
    "my_vector.shape"
   ]
  },
  {
   "cell_type": "code",
   "execution_count": 9,
   "id": "c97f126a",
   "metadata": {
    "collapsed": true
   },
   "outputs": [
    {
     "data": {
      "text/plain": [
       "(3, 3)"
      ]
     },
     "execution_count": 9,
     "metadata": {},
     "output_type": "execute_result"
    }
   ],
   "source": [
    "my_matrix.shape"
   ]
  },
  {
   "cell_type": "code",
   "execution_count": 10,
   "id": "db1fc56a",
   "metadata": {
    "collapsed": true
   },
   "outputs": [
    {
     "data": {
      "text/plain": [
       "dtype('bool')"
      ]
     },
     "execution_count": 10,
     "metadata": {},
     "output_type": "execute_result"
    }
   ],
   "source": [
    "# dtype('bool')\n",
    "my_vector.dtype"
   ]
  },
  {
   "cell_type": "code",
   "execution_count": 11,
   "id": "6bda2aeb",
   "metadata": {
    "collapsed": true
   },
   "outputs": [
    {
     "data": {
      "text/plain": [
       "dtype('int32')"
      ]
     },
     "execution_count": 11,
     "metadata": {},
     "output_type": "execute_result"
    }
   ],
   "source": [
    "# dtype('int32')\n",
    "my_matrix.dtype"
   ]
  },
  {
   "cell_type": "markdown",
   "id": "2850aa1f",
   "metadata": {},
   "source": [
    "## numPy Built-in Functions to Create ndarrays"
   ]
  },
  {
   "cell_type": "code",
   "execution_count": 12,
   "id": "78af7177",
   "metadata": {},
   "outputs": [],
   "source": [
    "# 3 x 4 ndarray full of zeroes\n",
    "zero_array = np.zeros((3, 4))"
   ]
  },
  {
   "cell_type": "code",
   "execution_count": 13,
   "id": "6cafcd12",
   "metadata": {
    "collapsed": true
   },
   "outputs": [
    {
     "data": {
      "text/plain": [
       "array([[0., 0., 0., 0.],\n",
       "       [0., 0., 0., 0.],\n",
       "       [0., 0., 0., 0.]])"
      ]
     },
     "execution_count": 13,
     "metadata": {},
     "output_type": "execute_result"
    }
   ],
   "source": [
    "zero_array"
   ]
  },
  {
   "cell_type": "code",
   "execution_count": 14,
   "id": "d86d3665",
   "metadata": {},
   "outputs": [],
   "source": [
    "# 3 x 4 ndarray full of ones\n",
    "one_array = np.ones((3, 4))"
   ]
  },
  {
   "cell_type": "code",
   "execution_count": 15,
   "id": "36c7f7ed",
   "metadata": {
    "collapsed": true
   },
   "outputs": [
    {
     "data": {
      "text/plain": [
       "array([[1., 1., 1., 1.],\n",
       "       [1., 1., 1., 1.],\n",
       "       [1., 1., 1., 1.]])"
      ]
     },
     "execution_count": 15,
     "metadata": {},
     "output_type": "execute_result"
    }
   ],
   "source": [
    "one_array"
   ]
  },
  {
   "cell_type": "code",
   "execution_count": 16,
   "id": "321f4b17",
   "metadata": {},
   "outputs": [],
   "source": [
    "# 1-D array with sequential integers from 0 to 9\n",
    "x = np.arange(10)"
   ]
  },
  {
   "cell_type": "code",
   "execution_count": 17,
   "id": "9bd2bbd4",
   "metadata": {
    "collapsed": true
   },
   "outputs": [
    {
     "data": {
      "text/plain": [
       "array([0, 1, 2, 3, 4, 5, 6, 7, 8, 9])"
      ]
     },
     "execution_count": 17,
     "metadata": {},
     "output_type": "execute_result"
    }
   ],
   "source": [
    "x"
   ]
  },
  {
   "cell_type": "code",
   "execution_count": 18,
   "id": "dcdd4ccf",
   "metadata": {},
   "outputs": [],
   "source": [
    "# 1-D array with sequential integers from 4 to 9\n",
    "y = np.arange(4, 10)"
   ]
  },
  {
   "cell_type": "code",
   "execution_count": 19,
   "id": "6c5c894b",
   "metadata": {
    "collapsed": true
   },
   "outputs": [
    {
     "data": {
      "text/plain": [
       "array([4, 5, 6, 7, 8, 9])"
      ]
     },
     "execution_count": 19,
     "metadata": {},
     "output_type": "execute_result"
    }
   ],
   "source": [
    "y"
   ]
  },
  {
   "cell_type": "code",
   "execution_count": 20,
   "id": "7b36ccf9",
   "metadata": {},
   "outputs": [],
   "source": [
    "# 1-D array from 0.5 to 10.4 in steps of 0.8\n",
    "z = np.arange(0.5, 10.4, 0.8)"
   ]
  },
  {
   "cell_type": "code",
   "execution_count": 21,
   "id": "f1386f9f",
   "metadata": {
    "collapsed": true
   },
   "outputs": [
    {
     "data": {
      "text/plain": [
       "array([ 0.5,  1.3,  2.1,  2.9,  3.7,  4.5,  5.3,  6.1,  6.9,  7.7,  8.5,\n",
       "        9.3, 10.1])"
      ]
     },
     "execution_count": 21,
     "metadata": {},
     "output_type": "execute_result"
    }
   ],
   "source": [
    "z"
   ]
  },
  {
   "cell_type": "code",
   "execution_count": 22,
   "id": "a4b77f36",
   "metadata": {},
   "outputs": [],
   "source": [
    "# 1-D array from 0 to 1 equally divided by linspace\n",
    "a = np.linspace(0, 1, 11)"
   ]
  },
  {
   "cell_type": "code",
   "execution_count": 23,
   "id": "03492d79",
   "metadata": {
    "collapsed": true
   },
   "outputs": [
    {
     "data": {
      "text/plain": [
       "array([0. , 0.1, 0.2, 0.3, 0.4, 0.5, 0.6, 0.7, 0.8, 0.9, 1. ])"
      ]
     },
     "execution_count": 23,
     "metadata": {},
     "output_type": "execute_result"
    }
   ],
   "source": [
    "a"
   ]
  },
  {
   "cell_type": "code",
   "execution_count": 24,
   "id": "d6ff0d9b",
   "metadata": {},
   "outputs": [],
   "source": [
    "# 1-D array with sequential integers from 0 to 19\n",
    "# reshaped to 4 x 5 array\n",
    "y = np.arange(20).reshape(4, 5)"
   ]
  },
  {
   "cell_type": "code",
   "execution_count": 25,
   "id": "1099a5af",
   "metadata": {
    "collapsed": true
   },
   "outputs": [
    {
     "data": {
      "text/plain": [
       "array([[ 0,  1,  2,  3,  4],\n",
       "       [ 5,  6,  7,  8,  9],\n",
       "       [10, 11, 12, 13, 14],\n",
       "       [15, 16, 17, 18, 19]])"
      ]
     },
     "execution_count": 25,
     "metadata": {},
     "output_type": "execute_result"
    }
   ],
   "source": [
    "y"
   ]
  },
  {
   "cell_type": "markdown",
   "id": "8ee5039b",
   "metadata": {},
   "source": [
    "## numPy Arithmetic Operations "
   ]
  },
  {
   "cell_type": "code",
   "execution_count": 26,
   "id": "19d2f4f1",
   "metadata": {},
   "outputs": [],
   "source": [
    "# reshaped to 4 x 5 array\n",
    "a = np.arange(4)"
   ]
  },
  {
   "cell_type": "code",
   "execution_count": 27,
   "id": "d84671ad",
   "metadata": {
    "collapsed": true
   },
   "outputs": [
    {
     "data": {
      "text/plain": [
       "array([10, 11, 12, 13])"
      ]
     },
     "execution_count": 27,
     "metadata": {},
     "output_type": "execute_result"
    }
   ],
   "source": [
    "a + 10"
   ]
  },
  {
   "cell_type": "code",
   "execution_count": 28,
   "id": "5cd18d6e",
   "metadata": {
    "collapsed": true
   },
   "outputs": [
    {
     "data": {
      "text/plain": [
       "array([-10,  -9,  -8,  -7])"
      ]
     },
     "execution_count": 28,
     "metadata": {},
     "output_type": "execute_result"
    }
   ],
   "source": [
    "a - 10"
   ]
  },
  {
   "cell_type": "code",
   "execution_count": 29,
   "id": "32f7bfbb",
   "metadata": {
    "collapsed": true
   },
   "outputs": [
    {
     "data": {
      "text/plain": [
       "array([ 0, 10, 20, 30])"
      ]
     },
     "execution_count": 29,
     "metadata": {},
     "output_type": "execute_result"
    }
   ],
   "source": [
    "a * 10"
   ]
  },
  {
   "cell_type": "code",
   "execution_count": 30,
   "id": "b6a31ce4",
   "metadata": {
    "collapsed": true
   },
   "outputs": [
    {
     "data": {
      "text/plain": [
       "array([0. , 0.1, 0.2, 0.3])"
      ]
     },
     "execution_count": 30,
     "metadata": {},
     "output_type": "execute_result"
    }
   ],
   "source": [
    "a / 10"
   ]
  },
  {
   "cell_type": "code",
   "execution_count": 31,
   "id": "294ac925",
   "metadata": {},
   "outputs": [],
   "source": [
    "# arithmetic operations between two arrays\n",
    "x = np.array([1,2,3,4]).reshape(2,2)"
   ]
  },
  {
   "cell_type": "code",
   "execution_count": 32,
   "id": "7552f9b3",
   "metadata": {},
   "outputs": [],
   "source": [
    "y = np.array([10,15,20,25]).reshape(2,2)"
   ]
  },
  {
   "cell_type": "code",
   "execution_count": 33,
   "id": "1ff88268",
   "metadata": {
    "collapsed": true
   },
   "outputs": [
    {
     "data": {
      "text/plain": [
       "array([[11, 17],\n",
       "       [23, 29]])"
      ]
     },
     "execution_count": 33,
     "metadata": {},
     "output_type": "execute_result"
    }
   ],
   "source": [
    "np.add(x, y)"
   ]
  },
  {
   "cell_type": "code",
   "execution_count": 34,
   "id": "01bcf5dc",
   "metadata": {
    "collapsed": true
   },
   "outputs": [
    {
     "data": {
      "text/plain": [
       "array([[ -9, -13],\n",
       "       [-17, -21]])"
      ]
     },
     "execution_count": 34,
     "metadata": {},
     "output_type": "execute_result"
    }
   ],
   "source": [
    "np.subtract(x, y)"
   ]
  },
  {
   "cell_type": "code",
   "execution_count": 35,
   "id": "6d99e245",
   "metadata": {
    "collapsed": true
   },
   "outputs": [
    {
     "data": {
      "text/plain": [
       "array([[ 10,  30],\n",
       "       [ 60, 100]])"
      ]
     },
     "execution_count": 35,
     "metadata": {},
     "output_type": "execute_result"
    }
   ],
   "source": [
    "np.multiply(x, y)"
   ]
  },
  {
   "cell_type": "code",
   "execution_count": 36,
   "id": "9339142a",
   "metadata": {
    "collapsed": true
   },
   "outputs": [
    {
     "data": {
      "text/plain": [
       "array([[0.1       , 0.13333333],\n",
       "       [0.15      , 0.16      ]])"
      ]
     },
     "execution_count": 36,
     "metadata": {},
     "output_type": "execute_result"
    }
   ],
   "source": [
    "np.divide(x, y)"
   ]
  },
  {
   "cell_type": "code",
   "execution_count": 37,
   "id": "5bcbdea6",
   "metadata": {},
   "outputs": [],
   "source": [
    "import timeit"
   ]
  },
  {
   "cell_type": "code",
   "execution_count": 38,
   "id": "b431dd97",
   "metadata": {
    "collapsed": true
   },
   "outputs": [
    {
     "name": "stdout",
     "output_type": "stream",
     "text": [
      "112492500\n",
      "16.2 µs ± 630 ns per loop (mean ± std. dev. of 7 runs, 100000 loops each)\n"
     ]
    }
   ],
   "source": [
    "# vectorized sum\n",
    "print(np.sum(np.arange(15000)))\n",
    "%timeit np.sum(np.arange(15000))"
   ]
  },
  {
   "cell_type": "code",
   "execution_count": 39,
   "id": "0e275106",
   "metadata": {
    "collapsed": true
   },
   "outputs": [
    {
     "name": "stdout",
     "output_type": "stream",
     "text": [
      "112492500\n",
      "20.1 ns ± 0.591 ns per loop (mean ± std. dev. of 7 runs, 10000000 loops each)\n"
     ]
    }
   ],
   "source": [
    "# iterative sum\n",
    "total = 0\n",
    "for item in range (0, 15000):\n",
    "    total += item\n",
    "print(total)\n",
    "%timeit a"
   ]
  },
  {
   "cell_type": "markdown",
   "id": "30534660",
   "metadata": {},
   "source": [
    "## numPy Slicing"
   ]
  },
  {
   "cell_type": "code",
   "execution_count": 40,
   "id": "2962b943",
   "metadata": {
    "collapsed": true
   },
   "outputs": [
    {
     "name": "stdout",
     "output_type": "stream",
     "text": [
      "[[ 0  1  2  3  4]\n",
      " [ 5  6  7  8  9]\n",
      " [10 11 12 13 14]\n",
      " [15 16 17 18 19]]\n"
     ]
    }
   ],
   "source": [
    "# create 4 x 5 ndarray that contains integers from 0 to 19\n",
    "x = np.arange(20).reshape(4, 5)\n",
    "print(x)"
   ]
  },
  {
   "cell_type": "code",
   "execution_count": 41,
   "id": "13539620",
   "metadata": {
    "collapsed": true
   },
   "outputs": [
    {
     "data": {
      "text/plain": [
       "array([[ 7,  8,  9],\n",
       "       [12, 13, 14],\n",
       "       [17, 18, 19]])"
      ]
     },
     "execution_count": 41,
     "metadata": {},
     "output_type": "execute_result"
    }
   ],
   "source": [
    "# select all the elements that are in the 2nd through 4th rows and in the 3rd to 5th columns\n",
    "x[1:4, 2:5]"
   ]
  },
  {
   "cell_type": "markdown",
   "id": "cc0a564a",
   "metadata": {},
   "source": [
    "## numPy Boolean Indexing "
   ]
  },
  {
   "cell_type": "code",
   "execution_count": 42,
   "id": "13bd5eac",
   "metadata": {
    "collapsed": true
   },
   "outputs": [
    {
     "name": "stdout",
     "output_type": "stream",
     "text": [
      "[[ 6 22 77 45 89]\n",
      " [28 54 71 65 82]\n",
      " [ 9 51 17 52 52]\n",
      " [39 36  5 74 73]]\n"
     ]
    }
   ],
   "source": [
    "# random array of shape (4, 5)\n",
    "x = np.random.randint(1, 100, (4, 5))\n",
    "print(x)"
   ]
  },
  {
   "cell_type": "code",
   "execution_count": 43,
   "id": "8f80ffdc",
   "metadata": {
    "collapsed": true
   },
   "outputs": [
    {
     "data": {
      "text/plain": [
       "array([[ True, False, False, False, False],\n",
       "       [False, False, False, False, False],\n",
       "       [ True, False,  True, False, False],\n",
       "       [False, False,  True, False, False]])"
      ]
     },
     "execution_count": 43,
     "metadata": {},
     "output_type": "execute_result"
    }
   ],
   "source": [
    "# identify whether elements are less than or equal to 20\n",
    "x <= 20"
   ]
  },
  {
   "cell_type": "code",
   "execution_count": 44,
   "id": "99a52ac1",
   "metadata": {
    "collapsed": true
   },
   "outputs": [
    {
     "data": {
      "text/plain": [
       "array([ 6,  9, 17,  5])"
      ]
     },
     "execution_count": 44,
     "metadata": {},
     "output_type": "execute_result"
    }
   ],
   "source": [
    "# select elements that are less than or equal to 20\n",
    "x[x <= 20]"
   ]
  }
 ],
 "metadata": {
  "kernelspec": {
   "display_name": "Python 3 (ipykernel)",
   "language": "python",
   "name": "python3"
  },
  "language_info": {
   "codemirror_mode": {
    "name": "ipython",
    "version": 3
   },
   "file_extension": ".py",
   "mimetype": "text/x-python",
   "name": "python",
   "nbconvert_exporter": "python",
   "pygments_lexer": "ipython3",
   "version": "3.9.7"
  }
 },
 "nbformat": 4,
 "nbformat_minor": 5
}
